{
 "cells": [
  {
   "cell_type": "markdown",
   "id": "5cfc94d2",
   "metadata": {},
   "source": [
    "# MD postprocessing"
   ]
  },
  {
   "cell_type": "markdown",
   "id": "7c1f8e7e",
   "metadata": {},
   "source": [
    "##### This notebook requires MDanalysis Matplotlib NGLview Pandas and Numpy"
   ]
  },
  {
   "cell_type": "code",
   "execution_count": null,
   "id": "a1090720",
   "metadata": {},
   "outputs": [],
   "source": [
    "import numpy as np\n",
    "import pandas as pd\n",
    "\n",
    "import matplotlib.pyplot as plt\n",
    "\n",
    "import MDAnalysis as mda\n",
    "from MDAnalysis.analysis import rms\n",
    "\n",
    "import nglview as nv"
   ]
  },
  {
   "cell_type": "markdown",
   "id": "32a3f909",
   "metadata": {},
   "source": [
    "### Input parameters"
   ]
  },
  {
   "cell_type": "markdown",
   "id": "681576d6",
   "metadata": {},
   "source": [
    "Define input parameters and paths"
   ]
  },
  {
   "cell_type": "code",
   "execution_count": null,
   "id": "8a6c37f4",
   "metadata": {},
   "outputs": [],
   "source": [
    "replicate = 'rep4'\n",
    "\n",
    "path_data = 'MD_trajectories/'+replicate+'/'\n",
    "\n",
    "#Input files\n",
    "pdb = path_data + 'conf.gro'\n",
    "trajectory = path_data + 'VMD_aligned.dcd'\n",
    "reference_system = path_data + 'conf.gro'\n",
    "path = path_data + 'analysis/'\n",
    "\n",
    "#MD timestep\n",
    "timestep = 2 #femtoseconds\n",
    "\n",
    "#Selections\n",
    "ligand_selection = \"resname LIG\"\n",
    "protein_selection = \"protein\"\n",
    "backbone_selection = \"backbone\"\n",
    "protein_ligands_selection = \"protein or resname LIG NAP\""
   ]
  },
  {
   "cell_type": "markdown",
   "id": "85ada88b",
   "metadata": {},
   "source": [
    "### Detect binding site residues"
   ]
  },
  {
   "cell_type": "code",
   "execution_count": null,
   "id": "fb9de2aa",
   "metadata": {},
   "outputs": [],
   "source": [
    "# Load your .gro file into an MDAnalysis Universe\n",
    "u = mda.Universe(pdb)\n",
    "\n",
    "# Select the ligand atoms by residue name\n",
    "ligand = u.select_atoms('resname LIG')\n",
    "\n",
    "# Select protein residues \n",
    "binding_site_residues = u.select_atoms(f'protein and resid 111 112 113 116 124 125 128 132 153 170 174 200', ligand=ligand)\n",
    "\n",
    "# Extract unique residue IDs\n",
    "binding_site_resids = binding_site_residues.residues.resids"
   ]
  },
  {
   "cell_type": "markdown",
   "id": "9b6373a2",
   "metadata": {},
   "source": [
    "### Load trajectory"
   ]
  },
  {
   "cell_type": "code",
   "execution_count": null,
   "id": "24c6a31e",
   "metadata": {},
   "outputs": [],
   "source": [
    "# Load trajectory\n",
    "u = mda.Universe(pdb, trajectory)\n",
    "\n",
    "# Select the protein atoms\n",
    "system_atoms = u.select_atoms(protein_ligands_selection)"
   ]
  },
  {
   "cell_type": "markdown",
   "id": "04c7b3de",
   "metadata": {},
   "source": [
    "### Extract RMSF of binding site residues (side chains and backbone)"
   ]
  },
  {
   "cell_type": "code",
   "execution_count": null,
   "id": "32ac4661",
   "metadata": {},
   "outputs": [],
   "source": [
    "# Select the protein atoms\n",
    "protein_atoms = u.select_atoms('protein')\n",
    "\n",
    "# Calculate RMSF for the whole sidechain of specific residues\n",
    "rmsf_values = np.zeros(len(binding_site_resids))\n",
    "x_labels = []  # To store x-axis labels with residue names and IDs\n",
    "\n",
    "for i, resid in enumerate(binding_site_resids):\n",
    "    residue_atoms = protein_atoms.select_atoms(f\"resid {resid}\")\n",
    "    residue_name = residue_atoms.residues.resnames[0]  # Get the residue name\n",
    "    R = rms.RMSF(residue_atoms).run()\n",
    "    rmsf_values[i] = np.mean(R.rmsf)\n",
    "    \n",
    "    # Create the label with residue name and ID\n",
    "    x_labels.append(f\"{residue_name}-{resid}\")\n",
    "\n",
    "# Plot the barplot\n",
    "plt.figure(figsize=(11, 3))\n",
    "plt.bar(x_labels, rmsf_values, color='dodgerblue', align='center')\n",
    "plt.xlabel(\"Residue (Name-ID)\", fontsize=14)\n",
    "plt.ylabel(\"Average RMSF (Å)\", fontsize=14)\n",
    "#plt.title(\"Root-Mean-Square Fluctuations per Residue of Binding Site Residues\")\n",
    "plt.xticks(rotation=90)  # Rotate x-axis labels for better visibility\n",
    "plt.grid(axis='y')  # Only show horizontal grid lines\n",
    "plt.ylim(0, 3.2)\n",
    "plt.yticks(size=14)\n",
    "plt.xticks(size=14)\n",
    "plt.savefig(path + 'rmsf_binding_site.png')\n",
    "plt.show()\n"
   ]
  },
  {
   "cell_type": "markdown",
   "id": "febf1fff",
   "metadata": {},
   "source": [
    "### NGL representation of binding site residues"
   ]
  },
  {
   "cell_type": "markdown",
   "id": "26890768",
   "metadata": {},
   "source": [
    "Shows binding site residues based on the previous computed RMSF"
   ]
  },
  {
   "cell_type": "code",
   "execution_count": null,
   "id": "881c559d",
   "metadata": {},
   "outputs": [],
   "source": [
    "# Set B-factors as tempfactors for visualization\n",
    "u.add_TopologyAttr('tempfactors')  # add empty attribute for all atoms\n",
    "\n",
    "# Convert binding_site_resids list to string for selection\n",
    "string_binding_site = ' '.join(str(num) for num in binding_site_resids)\n",
    "\n",
    "# Select atoms in the binding site\n",
    "binding_site_sel = u.select_atoms('resid ' + string_binding_site)\n",
    "\n",
    "# Assign RMSF values to B-factors (tempfactors)\n",
    "for residue, r_value in zip(binding_site_sel.residues, rmsf_values):\n",
    "    residue.atoms.tempfactors = r_value\n",
    "\n",
    "# Select protein atoms in the binding site and ligand for visualization\n",
    "binding_site_sel_and_ligand = u.select_atoms('resid ' + string_binding_site + ' or ' + ligand_selection)\n",
    "\n",
    "# Visualize the binding site and ligand using NGLView\n",
    "view = nv.show_mdanalysis(binding_site_sel_and_ligand)\n",
    "view.clear()\n",
    "view.add_representation(\"licorice\", selection='not protein', radius=0.6)\n",
    "\n",
    "# Visualize each residue in the binding site with B-factors as licorice representation\n",
    "for resid_bs in binding_site_resids:\n",
    "    residue_selection = 'protein and resid ' + str(resid_bs)\n",
    "    view.add_licorice(color_scheme='bfactor', selection=residue_selection)\n",
    "    \n",
    "print('Darker colors means higher RMSF')\n",
    "\n",
    "# Display the visualization\n",
    "view"
   ]
  },
  {
   "cell_type": "markdown",
   "id": "2f91f06c",
   "metadata": {},
   "source": [
    "### RMSD of Binding site"
   ]
  },
  {
   "cell_type": "markdown",
   "id": "8330045b",
   "metadata": {},
   "source": [
    "Computes the RMSD. Does the aligment on the backbone"
   ]
  },
  {
   "cell_type": "code",
   "execution_count": null,
   "id": "e16bd060",
   "metadata": {},
   "outputs": [],
   "source": [
    "#LOADING FILES\n",
    "ref = mda.Universe(reference_system) \n",
    "\n",
    "#RMSD OF A TRAJECTORY USING MULTIPLE SELECTIONS\n",
    "string_binding_site = ' '.join(str(num) for num in binding_site_resids)\n",
    "binding_site = 'resid '+string_binding_site\n",
    "\n",
    "R = rms.RMSD(u,  # universe to align\n",
    "             u,  # reference universe or atomgroup\n",
    "             select=binding_site,  # group to superimpose and calculate RMSD\n",
    "             groupselections=[binding_site,],  # groups for RMSD\n",
    "             ref_frame=0,  # frame index of the reference\n",
    "             superposition=False)  # skip alignment\n",
    "R.run()\n",
    "\n",
    "\n",
    "# STORE DATA IN TABLE\n",
    "df = pd.DataFrame(R.results.rmsd, columns=['Frame', 'Time (ns)', 'binding_site', 'binding_site'])\n",
    "\n",
    "df['Time (ns)'] = df['Time (ns)'] * 10\n",
    "\n",
    "# PLOTTING THE DATA IN GRAPH\n",
    "plt.figure(figsize=(10, 4))\n",
    "\n",
    "# Plot the RMSD binding_site in the same plot with different colors and labels\n",
    "plt.plot(df['Time (ns)'], df['binding_site'], color='lightblue', label='Binding Site', linewidth=1)\n",
    "\n",
    "# Add a legend to differentiate between the lines\n",
    "plt.legend()\n",
    "\n",
    "# Set the labels and title\n",
    "plt.xlabel('Time (ns)')\n",
    "plt.ylabel(r'RMSD ($\\AA$)')\n",
    "plt.title('Root-Mean-Square Deviations (RMSD)')\n",
    "\n",
    "# Display the plot\n",
    "plt.grid(True)\n",
    "plt.savefig(path + 'rmsd.png')\n",
    "plt.show()\n",
    "\n",
    "#save the data in a csv file\n",
    "df.to_csv(path+'rmsd.csv', index=False)\n"
   ]
  },
  {
   "cell_type": "markdown",
   "id": "43ad8fa7",
   "metadata": {},
   "source": [
    "### 5 replicates RMSD plot"
   ]
  },
  {
   "cell_type": "code",
   "execution_count": null,
   "id": "bbabc170",
   "metadata": {},
   "outputs": [],
   "source": [
    "# Define replicates\n",
    "replicates = ['rep1', 'rep2', 'rep3', 'rep4', 'rep5']\n",
    "\n",
    "# Set up the figure size\n",
    "plt.figure(figsize=(12, 6))\n",
    "\n",
    "# Define a color palette with shades of blue\n",
    "colors = ['darkviolet', 'darkblue', 'aquamarine', 'dodgerblue', 'purple']  # Pink, purple, blue, gray, and black\n",
    "line_styles = ['-', '-', '-', '-', '-']  # Different line styles\n",
    "\n",
    "# Loop through replicates and plot RMSD\n",
    "for i, rep in enumerate(replicates):\n",
    "    df = pd.read_csv(f'MD_trajectories/{rep}/analysis/rmsd.csv')\n",
    "    plt.plot(df['Time (ns)'], df['binding_site'], label=rep, color=colors[i], linestyle=line_styles[i], linewidth=1.5)\n",
    "\n",
    "# Improve plot aesthetics\n",
    "plt.xlabel('Time (ns)', fontsize=14)\n",
    "plt.ylabel(r'RMSD ($\\AA$)', fontsize=14)\n",
    "plt.title('Root-Mean-Square Deviations of the Binding Site Residues', fontsize=16, weight='bold')\n",
    "plt.xticks(fontsize=12)\n",
    "plt.yticks(fontsize=12)\n",
    "plt.grid(visible=True, which='both', linestyle='--', linewidth=0.5, alpha=0.7)\n",
    "plt.legend(title='Replicates', fontsize=12, title_fontsize=13, loc='upper center', bbox_to_anchor=(0.5, -0.1), ncol=len(replicates))\n",
    "plt.tight_layout()\n",
    "\n",
    "plt.savefig('MD_trajectories/rmsd_replicates.png')\n",
    "# Show the plot\n",
    "plt.show()\n",
    "\n"
   ]
  },
  {
   "cell_type": "code",
   "execution_count": null,
   "id": "699de948",
   "metadata": {},
   "outputs": [],
   "source": []
  }
 ],
 "metadata": {
  "kernelspec": {
   "display_name": "mdanalysis",
   "language": "python",
   "name": "python3"
  },
  "language_info": {
   "codemirror_mode": {
    "name": "ipython",
    "version": 3
   },
   "file_extension": ".py",
   "mimetype": "text/x-python",
   "name": "python",
   "nbconvert_exporter": "python",
   "pygments_lexer": "ipython3",
   "version": "3.10.8"
  }
 },
 "nbformat": 4,
 "nbformat_minor": 5
}
